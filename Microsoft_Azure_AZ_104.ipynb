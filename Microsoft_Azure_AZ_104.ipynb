{
  "nbformat": 4,
  "nbformat_minor": 0,
  "metadata": {
    "colab": {
      "provenance": [],
      "authorship_tag": "ABX9TyNvCW7VNkujW+7jXukMtMUf",
      "include_colab_link": true
    },
    "kernelspec": {
      "name": "python3",
      "display_name": "Python 3"
    },
    "language_info": {
      "name": "python"
    }
  },
  "cells": [
    {
      "cell_type": "markdown",
      "metadata": {
        "id": "view-in-github",
        "colab_type": "text"
      },
      "source": [
        "<a href=\"https://colab.research.google.com/github/visupreddy/Azure-learning/blob/main/Microsoft_Azure_AZ_104.ipynb\" target=\"_parent\"><img src=\"https://colab.research.google.com/assets/colab-badge.svg\" alt=\"Open In Colab\"/></a>"
      ]
    },
    {
      "cell_type": "code",
      "execution_count": null,
      "metadata": {
        "id": "nXFqable1zTX"
      },
      "outputs": [],
      "source": []
    },
    {
      "cell_type": "markdown",
      "source": [
        "AZ 104 and AZ 300 -- Admin Certifications\n",
        "\n",
        "AZ 104 -- No dependency on AZ 900\n",
        "\n",
        "  Cloud Computing - Delivery of computing services over the internet.\n",
        "    - Virtualization\n",
        "    - Cluster Management Software Portal - VMware Vsphere/ System Center/ Open Stack - To manage VM's - This is called Private Cloud (Highly Virtualized private cloud environment by using cluster management software).\n",
        "\n",
        "  Cloud Models\n",
        "    - Service Models - Iaas, Paas, Saas - Responsibility is reduced\n",
        "        - Iaas - Infrastructure is provided (VM, Network, storage etc..)\n",
        "        - Paas - App Services (Web app)\n",
        "        - Saas - Emailing service - Office 365 ( - no need to setup exchange server) - Another example - One-Drive & Google drive\n",
        "    - Deployment Models - Private, Public, Hybrid, Community and Multi Cloud\n",
        "\n",
        "  Cloud Vendors\n",
        "      - AWS, Azure and Google\n",
        "\n",
        "  Azure Geographies & Regions\n",
        "    - 3 or more zones in a region considered as Availability Zone else use Availability sets.\n",
        "    - Geo (India, Uk, US)\n",
        "    - Region (Eagle, West and Central)\n",
        "    - Zone ( 1 or more datacenters).\n",
        "\n",
        "\n",
        "\n",
        "\n",
        "\n"
      ],
      "metadata": {
        "id": "mctauNk-15VN"
      }
    }
  ]
}